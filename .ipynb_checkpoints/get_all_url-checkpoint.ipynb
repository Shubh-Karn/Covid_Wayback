{
 "cells": [
  {
   "cell_type": "code",
   "execution_count": 1,
   "metadata": {},
   "outputs": [],
   "source": [
    "import pandas as pd\n",
    "from pathlib import Path\n",
    "from datetime import datetime"
   ]
  },
  {
   "cell_type": "code",
   "execution_count": 2,
   "metadata": {},
   "outputs": [],
   "source": [
    "df = pd.read_json('http://web.archive.org/cdx/search/cdx?url=mohfw.gov.in&output=json')"
   ]
  },
  {
   "cell_type": "code",
   "execution_count": 3,
   "metadata": {},
   "outputs": [
    {
     "name": "stdout",
     "output_type": "stream",
     "text": [
      "(1631, 7)\n",
      "0    object\n",
      "1    object\n",
      "2    object\n",
      "3    object\n",
      "4    object\n",
      "5    object\n",
      "6    object\n",
      "dtype: object\n"
     ]
    }
   ],
   "source": [
    "print(df.shape)\n",
    "print(df.dtypes)"
   ]
  },
  {
   "cell_type": "code",
   "execution_count": 4,
   "metadata": {},
   "outputs": [
    {
     "data": {
      "text/html": [
       "<div>\n",
       "<style scoped>\n",
       "    .dataframe tbody tr th:only-of-type {\n",
       "        vertical-align: middle;\n",
       "    }\n",
       "\n",
       "    .dataframe tbody tr th {\n",
       "        vertical-align: top;\n",
       "    }\n",
       "\n",
       "    .dataframe thead th {\n",
       "        text-align: right;\n",
       "    }\n",
       "</style>\n",
       "<table border=\"1\" class=\"dataframe\">\n",
       "  <thead>\n",
       "    <tr style=\"text-align: right;\">\n",
       "      <th></th>\n",
       "      <th>0</th>\n",
       "      <th>1</th>\n",
       "      <th>2</th>\n",
       "      <th>3</th>\n",
       "      <th>4</th>\n",
       "      <th>5</th>\n",
       "      <th>6</th>\n",
       "    </tr>\n",
       "  </thead>\n",
       "  <tbody>\n",
       "    <tr>\n",
       "      <th>0</th>\n",
       "      <td>urlkey</td>\n",
       "      <td>timestamp</td>\n",
       "      <td>original</td>\n",
       "      <td>mimetype</td>\n",
       "      <td>statuscode</td>\n",
       "      <td>digest</td>\n",
       "      <td>length</td>\n",
       "    </tr>\n",
       "    <tr>\n",
       "      <th>1</th>\n",
       "      <td>in,gov,mohfw)/</td>\n",
       "      <td>20130822041704</td>\n",
       "      <td>http://www.mohfw.gov.in:80/</td>\n",
       "      <td>text/html</td>\n",
       "      <td>200</td>\n",
       "      <td>ZOI7FAS5IWHR5L7VZJMH55UVO6DLEC5P</td>\n",
       "      <td>12914</td>\n",
       "    </tr>\n",
       "    <tr>\n",
       "      <th>2</th>\n",
       "      <td>in,gov,mohfw)/</td>\n",
       "      <td>20130921204014</td>\n",
       "      <td>http://www.mohfw.gov.in:80/</td>\n",
       "      <td>text/html</td>\n",
       "      <td>200</td>\n",
       "      <td>ISJSEBXGV65P55H32MMDWHHO6QQGTVY7</td>\n",
       "      <td>12962</td>\n",
       "    </tr>\n",
       "    <tr>\n",
       "      <th>3</th>\n",
       "      <td>in,gov,mohfw)/</td>\n",
       "      <td>20131022155257</td>\n",
       "      <td>http://www.mohfw.gov.in:80/</td>\n",
       "      <td>text/html</td>\n",
       "      <td>200</td>\n",
       "      <td>KYPV4AA7WNGOSDG36XDJITE7PIN7HOCR</td>\n",
       "      <td>11656</td>\n",
       "    </tr>\n",
       "    <tr>\n",
       "      <th>4</th>\n",
       "      <td>in,gov,mohfw)/</td>\n",
       "      <td>20131123044056</td>\n",
       "      <td>http://www.mohfw.gov.in:80/</td>\n",
       "      <td>text/html</td>\n",
       "      <td>200</td>\n",
       "      <td>QSJ4J5T5EXBUQGJCPOWOLAQJGWKPYZ4A</td>\n",
       "      <td>11852</td>\n",
       "    </tr>\n",
       "  </tbody>\n",
       "</table>\n",
       "</div>"
      ],
      "text/plain": [
       "                0               1                            2          3  \\\n",
       "0          urlkey       timestamp                     original   mimetype   \n",
       "1  in,gov,mohfw)/  20130822041704  http://www.mohfw.gov.in:80/  text/html   \n",
       "2  in,gov,mohfw)/  20130921204014  http://www.mohfw.gov.in:80/  text/html   \n",
       "3  in,gov,mohfw)/  20131022155257  http://www.mohfw.gov.in:80/  text/html   \n",
       "4  in,gov,mohfw)/  20131123044056  http://www.mohfw.gov.in:80/  text/html   \n",
       "\n",
       "            4                                 5       6  \n",
       "0  statuscode                            digest  length  \n",
       "1         200  ZOI7FAS5IWHR5L7VZJMH55UVO6DLEC5P   12914  \n",
       "2         200  ISJSEBXGV65P55H32MMDWHHO6QQGTVY7   12962  \n",
       "3         200  KYPV4AA7WNGOSDG36XDJITE7PIN7HOCR   11656  \n",
       "4         200  QSJ4J5T5EXBUQGJCPOWOLAQJGWKPYZ4A   11852  "
      ]
     },
     "execution_count": 4,
     "metadata": {},
     "output_type": "execute_result"
    }
   ],
   "source": [
    "df.head()"
   ]
  },
  {
   "cell_type": "code",
   "execution_count": 5,
   "metadata": {},
   "outputs": [],
   "source": [
    "new_columns = df.iloc[0]\n",
    "df = df[1:]\n",
    "df.columns = new_columns\n",
    "df.reset_index(drop=True, inplace=True)"
   ]
  },
  {
   "cell_type": "code",
   "execution_count": 6,
   "metadata": {},
   "outputs": [
    {
     "data": {
      "text/html": [
       "<div>\n",
       "<style scoped>\n",
       "    .dataframe tbody tr th:only-of-type {\n",
       "        vertical-align: middle;\n",
       "    }\n",
       "\n",
       "    .dataframe tbody tr th {\n",
       "        vertical-align: top;\n",
       "    }\n",
       "\n",
       "    .dataframe thead th {\n",
       "        text-align: right;\n",
       "    }\n",
       "</style>\n",
       "<table border=\"1\" class=\"dataframe\">\n",
       "  <thead>\n",
       "    <tr style=\"text-align: right;\">\n",
       "      <th></th>\n",
       "      <th>urlkey</th>\n",
       "      <th>timestamp</th>\n",
       "      <th>original</th>\n",
       "      <th>mimetype</th>\n",
       "      <th>statuscode</th>\n",
       "      <th>digest</th>\n",
       "      <th>length</th>\n",
       "    </tr>\n",
       "  </thead>\n",
       "  <tbody>\n",
       "    <tr>\n",
       "      <th>0</th>\n",
       "      <td>in,gov,mohfw)/</td>\n",
       "      <td>20130822041704</td>\n",
       "      <td>http://www.mohfw.gov.in:80/</td>\n",
       "      <td>text/html</td>\n",
       "      <td>200</td>\n",
       "      <td>ZOI7FAS5IWHR5L7VZJMH55UVO6DLEC5P</td>\n",
       "      <td>12914</td>\n",
       "    </tr>\n",
       "    <tr>\n",
       "      <th>1</th>\n",
       "      <td>in,gov,mohfw)/</td>\n",
       "      <td>20130921204014</td>\n",
       "      <td>http://www.mohfw.gov.in:80/</td>\n",
       "      <td>text/html</td>\n",
       "      <td>200</td>\n",
       "      <td>ISJSEBXGV65P55H32MMDWHHO6QQGTVY7</td>\n",
       "      <td>12962</td>\n",
       "    </tr>\n",
       "    <tr>\n",
       "      <th>2</th>\n",
       "      <td>in,gov,mohfw)/</td>\n",
       "      <td>20131022155257</td>\n",
       "      <td>http://www.mohfw.gov.in:80/</td>\n",
       "      <td>text/html</td>\n",
       "      <td>200</td>\n",
       "      <td>KYPV4AA7WNGOSDG36XDJITE7PIN7HOCR</td>\n",
       "      <td>11656</td>\n",
       "    </tr>\n",
       "    <tr>\n",
       "      <th>3</th>\n",
       "      <td>in,gov,mohfw)/</td>\n",
       "      <td>20131123044056</td>\n",
       "      <td>http://www.mohfw.gov.in:80/</td>\n",
       "      <td>text/html</td>\n",
       "      <td>200</td>\n",
       "      <td>QSJ4J5T5EXBUQGJCPOWOLAQJGWKPYZ4A</td>\n",
       "      <td>11852</td>\n",
       "    </tr>\n",
       "    <tr>\n",
       "      <th>4</th>\n",
       "      <td>in,gov,mohfw)/</td>\n",
       "      <td>20131226154745</td>\n",
       "      <td>http://www.mohfw.gov.in:80/</td>\n",
       "      <td>text/html</td>\n",
       "      <td>200</td>\n",
       "      <td>S2PKPRKGENJ6HSYHCR5RUIXLDD6B343G</td>\n",
       "      <td>12243</td>\n",
       "    </tr>\n",
       "  </tbody>\n",
       "</table>\n",
       "</div>"
      ],
      "text/plain": [
       "0          urlkey       timestamp                     original   mimetype  \\\n",
       "0  in,gov,mohfw)/  20130822041704  http://www.mohfw.gov.in:80/  text/html   \n",
       "1  in,gov,mohfw)/  20130921204014  http://www.mohfw.gov.in:80/  text/html   \n",
       "2  in,gov,mohfw)/  20131022155257  http://www.mohfw.gov.in:80/  text/html   \n",
       "3  in,gov,mohfw)/  20131123044056  http://www.mohfw.gov.in:80/  text/html   \n",
       "4  in,gov,mohfw)/  20131226154745  http://www.mohfw.gov.in:80/  text/html   \n",
       "\n",
       "0 statuscode                            digest length  \n",
       "0        200  ZOI7FAS5IWHR5L7VZJMH55UVO6DLEC5P  12914  \n",
       "1        200  ISJSEBXGV65P55H32MMDWHHO6QQGTVY7  12962  \n",
       "2        200  KYPV4AA7WNGOSDG36XDJITE7PIN7HOCR  11656  \n",
       "3        200  QSJ4J5T5EXBUQGJCPOWOLAQJGWKPYZ4A  11852  \n",
       "4        200  S2PKPRKGENJ6HSYHCR5RUIXLDD6B343G  12243  "
      ]
     },
     "execution_count": 6,
     "metadata": {},
     "output_type": "execute_result"
    }
   ],
   "source": [
    "df.head()"
   ]
  },
  {
   "cell_type": "code",
   "execution_count": 7,
   "metadata": {},
   "outputs": [],
   "source": [
    "df = df[df.statuscode=='200']"
   ]
  },
  {
   "cell_type": "code",
   "execution_count": 8,
   "metadata": {},
   "outputs": [
    {
     "data": {
      "text/plain": [
       "(1406, 7)"
      ]
     },
     "execution_count": 8,
     "metadata": {},
     "output_type": "execute_result"
    }
   ],
   "source": [
    "df.shape"
   ]
  },
  {
   "cell_type": "code",
   "execution_count": 9,
   "metadata": {},
   "outputs": [],
   "source": [
    "df.timestamp = pd.to_datetime(df.timestamp)"
   ]
  },
  {
   "cell_type": "code",
   "execution_count": 10,
   "metadata": {},
   "outputs": [
    {
     "data": {
      "text/html": [
       "<div>\n",
       "<style scoped>\n",
       "    .dataframe tbody tr th:only-of-type {\n",
       "        vertical-align: middle;\n",
       "    }\n",
       "\n",
       "    .dataframe tbody tr th {\n",
       "        vertical-align: top;\n",
       "    }\n",
       "\n",
       "    .dataframe thead th {\n",
       "        text-align: right;\n",
       "    }\n",
       "</style>\n",
       "<table border=\"1\" class=\"dataframe\">\n",
       "  <thead>\n",
       "    <tr style=\"text-align: right;\">\n",
       "      <th></th>\n",
       "      <th>urlkey</th>\n",
       "      <th>timestamp</th>\n",
       "      <th>original</th>\n",
       "      <th>mimetype</th>\n",
       "      <th>statuscode</th>\n",
       "      <th>digest</th>\n",
       "      <th>length</th>\n",
       "    </tr>\n",
       "  </thead>\n",
       "  <tbody>\n",
       "    <tr>\n",
       "      <th>0</th>\n",
       "      <td>in,gov,mohfw)/</td>\n",
       "      <td>2013-08-22 04:17:04</td>\n",
       "      <td>http://www.mohfw.gov.in:80/</td>\n",
       "      <td>text/html</td>\n",
       "      <td>200</td>\n",
       "      <td>ZOI7FAS5IWHR5L7VZJMH55UVO6DLEC5P</td>\n",
       "      <td>12914</td>\n",
       "    </tr>\n",
       "    <tr>\n",
       "      <th>1</th>\n",
       "      <td>in,gov,mohfw)/</td>\n",
       "      <td>2013-09-21 20:40:14</td>\n",
       "      <td>http://www.mohfw.gov.in:80/</td>\n",
       "      <td>text/html</td>\n",
       "      <td>200</td>\n",
       "      <td>ISJSEBXGV65P55H32MMDWHHO6QQGTVY7</td>\n",
       "      <td>12962</td>\n",
       "    </tr>\n",
       "    <tr>\n",
       "      <th>2</th>\n",
       "      <td>in,gov,mohfw)/</td>\n",
       "      <td>2013-10-22 15:52:57</td>\n",
       "      <td>http://www.mohfw.gov.in:80/</td>\n",
       "      <td>text/html</td>\n",
       "      <td>200</td>\n",
       "      <td>KYPV4AA7WNGOSDG36XDJITE7PIN7HOCR</td>\n",
       "      <td>11656</td>\n",
       "    </tr>\n",
       "    <tr>\n",
       "      <th>3</th>\n",
       "      <td>in,gov,mohfw)/</td>\n",
       "      <td>2013-11-23 04:40:56</td>\n",
       "      <td>http://www.mohfw.gov.in:80/</td>\n",
       "      <td>text/html</td>\n",
       "      <td>200</td>\n",
       "      <td>QSJ4J5T5EXBUQGJCPOWOLAQJGWKPYZ4A</td>\n",
       "      <td>11852</td>\n",
       "    </tr>\n",
       "    <tr>\n",
       "      <th>4</th>\n",
       "      <td>in,gov,mohfw)/</td>\n",
       "      <td>2013-12-26 15:47:45</td>\n",
       "      <td>http://www.mohfw.gov.in:80/</td>\n",
       "      <td>text/html</td>\n",
       "      <td>200</td>\n",
       "      <td>S2PKPRKGENJ6HSYHCR5RUIXLDD6B343G</td>\n",
       "      <td>12243</td>\n",
       "    </tr>\n",
       "  </tbody>\n",
       "</table>\n",
       "</div>"
      ],
      "text/plain": [
       "0          urlkey           timestamp                     original   mimetype  \\\n",
       "0  in,gov,mohfw)/ 2013-08-22 04:17:04  http://www.mohfw.gov.in:80/  text/html   \n",
       "1  in,gov,mohfw)/ 2013-09-21 20:40:14  http://www.mohfw.gov.in:80/  text/html   \n",
       "2  in,gov,mohfw)/ 2013-10-22 15:52:57  http://www.mohfw.gov.in:80/  text/html   \n",
       "3  in,gov,mohfw)/ 2013-11-23 04:40:56  http://www.mohfw.gov.in:80/  text/html   \n",
       "4  in,gov,mohfw)/ 2013-12-26 15:47:45  http://www.mohfw.gov.in:80/  text/html   \n",
       "\n",
       "0 statuscode                            digest length  \n",
       "0        200  ZOI7FAS5IWHR5L7VZJMH55UVO6DLEC5P  12914  \n",
       "1        200  ISJSEBXGV65P55H32MMDWHHO6QQGTVY7  12962  \n",
       "2        200  KYPV4AA7WNGOSDG36XDJITE7PIN7HOCR  11656  \n",
       "3        200  QSJ4J5T5EXBUQGJCPOWOLAQJGWKPYZ4A  11852  \n",
       "4        200  S2PKPRKGENJ6HSYHCR5RUIXLDD6B343G  12243  "
      ]
     },
     "execution_count": 10,
     "metadata": {},
     "output_type": "execute_result"
    }
   ],
   "source": [
    "df.head()"
   ]
  },
  {
   "cell_type": "code",
   "execution_count": 11,
   "metadata": {},
   "outputs": [],
   "source": [
    "df['max_value'] = df.groupby(df['timestamp'].dt.date)['timestamp'].transform('max')"
   ]
  },
  {
   "cell_type": "code",
   "execution_count": 12,
   "metadata": {},
   "outputs": [
    {
     "data": {
      "text/html": [
       "<div>\n",
       "<style scoped>\n",
       "    .dataframe tbody tr th:only-of-type {\n",
       "        vertical-align: middle;\n",
       "    }\n",
       "\n",
       "    .dataframe tbody tr th {\n",
       "        vertical-align: top;\n",
       "    }\n",
       "\n",
       "    .dataframe thead th {\n",
       "        text-align: right;\n",
       "    }\n",
       "</style>\n",
       "<table border=\"1\" class=\"dataframe\">\n",
       "  <thead>\n",
       "    <tr style=\"text-align: right;\">\n",
       "      <th></th>\n",
       "      <th>urlkey</th>\n",
       "      <th>timestamp</th>\n",
       "      <th>original</th>\n",
       "      <th>mimetype</th>\n",
       "      <th>statuscode</th>\n",
       "      <th>digest</th>\n",
       "      <th>length</th>\n",
       "      <th>max_value</th>\n",
       "    </tr>\n",
       "  </thead>\n",
       "  <tbody>\n",
       "    <tr>\n",
       "      <th>0</th>\n",
       "      <td>in,gov,mohfw)/</td>\n",
       "      <td>2013-08-22 04:17:04</td>\n",
       "      <td>http://www.mohfw.gov.in:80/</td>\n",
       "      <td>text/html</td>\n",
       "      <td>200</td>\n",
       "      <td>ZOI7FAS5IWHR5L7VZJMH55UVO6DLEC5P</td>\n",
       "      <td>12914</td>\n",
       "      <td>2013-08-22 04:17:04</td>\n",
       "    </tr>\n",
       "    <tr>\n",
       "      <th>1</th>\n",
       "      <td>in,gov,mohfw)/</td>\n",
       "      <td>2013-09-21 20:40:14</td>\n",
       "      <td>http://www.mohfw.gov.in:80/</td>\n",
       "      <td>text/html</td>\n",
       "      <td>200</td>\n",
       "      <td>ISJSEBXGV65P55H32MMDWHHO6QQGTVY7</td>\n",
       "      <td>12962</td>\n",
       "      <td>2013-09-21 20:40:14</td>\n",
       "    </tr>\n",
       "    <tr>\n",
       "      <th>2</th>\n",
       "      <td>in,gov,mohfw)/</td>\n",
       "      <td>2013-10-22 15:52:57</td>\n",
       "      <td>http://www.mohfw.gov.in:80/</td>\n",
       "      <td>text/html</td>\n",
       "      <td>200</td>\n",
       "      <td>KYPV4AA7WNGOSDG36XDJITE7PIN7HOCR</td>\n",
       "      <td>11656</td>\n",
       "      <td>2013-10-22 15:52:57</td>\n",
       "    </tr>\n",
       "    <tr>\n",
       "      <th>3</th>\n",
       "      <td>in,gov,mohfw)/</td>\n",
       "      <td>2013-11-23 04:40:56</td>\n",
       "      <td>http://www.mohfw.gov.in:80/</td>\n",
       "      <td>text/html</td>\n",
       "      <td>200</td>\n",
       "      <td>QSJ4J5T5EXBUQGJCPOWOLAQJGWKPYZ4A</td>\n",
       "      <td>11852</td>\n",
       "      <td>2013-11-23 04:40:56</td>\n",
       "    </tr>\n",
       "    <tr>\n",
       "      <th>4</th>\n",
       "      <td>in,gov,mohfw)/</td>\n",
       "      <td>2013-12-26 15:47:45</td>\n",
       "      <td>http://www.mohfw.gov.in:80/</td>\n",
       "      <td>text/html</td>\n",
       "      <td>200</td>\n",
       "      <td>S2PKPRKGENJ6HSYHCR5RUIXLDD6B343G</td>\n",
       "      <td>12243</td>\n",
       "      <td>2013-12-26 15:47:45</td>\n",
       "    </tr>\n",
       "  </tbody>\n",
       "</table>\n",
       "</div>"
      ],
      "text/plain": [
       "0          urlkey           timestamp                     original   mimetype  \\\n",
       "0  in,gov,mohfw)/ 2013-08-22 04:17:04  http://www.mohfw.gov.in:80/  text/html   \n",
       "1  in,gov,mohfw)/ 2013-09-21 20:40:14  http://www.mohfw.gov.in:80/  text/html   \n",
       "2  in,gov,mohfw)/ 2013-10-22 15:52:57  http://www.mohfw.gov.in:80/  text/html   \n",
       "3  in,gov,mohfw)/ 2013-11-23 04:40:56  http://www.mohfw.gov.in:80/  text/html   \n",
       "4  in,gov,mohfw)/ 2013-12-26 15:47:45  http://www.mohfw.gov.in:80/  text/html   \n",
       "\n",
       "0 statuscode                            digest length           max_value  \n",
       "0        200  ZOI7FAS5IWHR5L7VZJMH55UVO6DLEC5P  12914 2013-08-22 04:17:04  \n",
       "1        200  ISJSEBXGV65P55H32MMDWHHO6QQGTVY7  12962 2013-09-21 20:40:14  \n",
       "2        200  KYPV4AA7WNGOSDG36XDJITE7PIN7HOCR  11656 2013-10-22 15:52:57  \n",
       "3        200  QSJ4J5T5EXBUQGJCPOWOLAQJGWKPYZ4A  11852 2013-11-23 04:40:56  \n",
       "4        200  S2PKPRKGENJ6HSYHCR5RUIXLDD6B343G  12243 2013-12-26 15:47:45  "
      ]
     },
     "execution_count": 12,
     "metadata": {},
     "output_type": "execute_result"
    }
   ],
   "source": [
    "df.head()"
   ]
  },
  {
   "cell_type": "code",
   "execution_count": 13,
   "metadata": {},
   "outputs": [
    {
     "data": {
      "text/plain": [
       "0\n",
       "urlkey                object\n",
       "timestamp     datetime64[ns]\n",
       "original              object\n",
       "mimetype              object\n",
       "statuscode            object\n",
       "digest                object\n",
       "length                object\n",
       "max_value     datetime64[ns]\n",
       "dtype: object"
      ]
     },
     "execution_count": 13,
     "metadata": {},
     "output_type": "execute_result"
    }
   ],
   "source": [
    "df.dtypes"
   ]
  },
  {
   "cell_type": "code",
   "execution_count": 14,
   "metadata": {},
   "outputs": [],
   "source": [
    "df2 = df[df.timestamp>='2020-05-30']"
   ]
  },
  {
   "cell_type": "code",
   "execution_count": 15,
   "metadata": {},
   "outputs": [],
   "source": [
    "dates = df2['max_value'].dt.strftime('%Y%m%d%H%M%S')"
   ]
  },
  {
   "cell_type": "code",
   "execution_count": 16,
   "metadata": {},
   "outputs": [],
   "source": [
    "dates = dates.drop_duplicates()"
   ]
  },
  {
   "cell_type": "code",
   "execution_count": 17,
   "metadata": {},
   "outputs": [
    {
     "data": {
      "text/plain": [
       "(46,)"
      ]
     },
     "execution_count": 17,
     "metadata": {},
     "output_type": "execute_result"
    }
   ],
   "source": [
    "dates.shape"
   ]
  },
  {
   "cell_type": "code",
   "execution_count": 18,
   "metadata": {},
   "outputs": [
    {
     "data": {
      "text/plain": [
       "1596    20200710104331\n",
       "1601    20200711133700\n",
       "1604    20200712211819\n",
       "1619    20200713170309\n",
       "1625    20200714151329\n",
       "Name: max_value, dtype: object"
      ]
     },
     "execution_count": 18,
     "metadata": {},
     "output_type": "execute_result"
    }
   ],
   "source": [
    "dates.tail()"
   ]
  },
  {
   "cell_type": "code",
   "execution_count": 19,
   "metadata": {},
   "outputs": [],
   "source": [
    "url = pd.DataFrame(dates)"
   ]
  },
  {
   "cell_type": "code",
   "execution_count": 20,
   "metadata": {},
   "outputs": [
    {
     "data": {
      "text/html": [
       "<div>\n",
       "<style scoped>\n",
       "    .dataframe tbody tr th:only-of-type {\n",
       "        vertical-align: middle;\n",
       "    }\n",
       "\n",
       "    .dataframe tbody tr th {\n",
       "        vertical-align: top;\n",
       "    }\n",
       "\n",
       "    .dataframe thead th {\n",
       "        text-align: right;\n",
       "    }\n",
       "</style>\n",
       "<table border=\"1\" class=\"dataframe\">\n",
       "  <thead>\n",
       "    <tr style=\"text-align: right;\">\n",
       "      <th></th>\n",
       "      <th>max_value</th>\n",
       "    </tr>\n",
       "  </thead>\n",
       "  <tbody>\n",
       "    <tr>\n",
       "      <th>1596</th>\n",
       "      <td>20200710104331</td>\n",
       "    </tr>\n",
       "    <tr>\n",
       "      <th>1601</th>\n",
       "      <td>20200711133700</td>\n",
       "    </tr>\n",
       "    <tr>\n",
       "      <th>1604</th>\n",
       "      <td>20200712211819</td>\n",
       "    </tr>\n",
       "    <tr>\n",
       "      <th>1619</th>\n",
       "      <td>20200713170309</td>\n",
       "    </tr>\n",
       "    <tr>\n",
       "      <th>1625</th>\n",
       "      <td>20200714151329</td>\n",
       "    </tr>\n",
       "  </tbody>\n",
       "</table>\n",
       "</div>"
      ],
      "text/plain": [
       "           max_value\n",
       "1596  20200710104331\n",
       "1601  20200711133700\n",
       "1604  20200712211819\n",
       "1619  20200713170309\n",
       "1625  20200714151329"
      ]
     },
     "execution_count": 20,
     "metadata": {},
     "output_type": "execute_result"
    }
   ],
   "source": [
    "url.tail()"
   ]
  },
  {
   "cell_type": "code",
   "execution_count": 21,
   "metadata": {},
   "outputs": [],
   "source": [
    "url['url1']='https://web.archive.org/web/'\n",
    "url['url2']='/https://www.mohfw.gov.in/'"
   ]
  },
  {
   "cell_type": "code",
   "execution_count": 22,
   "metadata": {},
   "outputs": [],
   "source": [
    "url['full_url']=url['url1']+url['max_value']+url['url2']"
   ]
  },
  {
   "cell_type": "code",
   "execution_count": 23,
   "metadata": {},
   "outputs": [
    {
     "data": {
      "text/html": [
       "<div>\n",
       "<style scoped>\n",
       "    .dataframe tbody tr th:only-of-type {\n",
       "        vertical-align: middle;\n",
       "    }\n",
       "\n",
       "    .dataframe tbody tr th {\n",
       "        vertical-align: top;\n",
       "    }\n",
       "\n",
       "    .dataframe thead th {\n",
       "        text-align: right;\n",
       "    }\n",
       "</style>\n",
       "<table border=\"1\" class=\"dataframe\">\n",
       "  <thead>\n",
       "    <tr style=\"text-align: right;\">\n",
       "      <th></th>\n",
       "      <th>max_value</th>\n",
       "      <th>url1</th>\n",
       "      <th>url2</th>\n",
       "      <th>full_url</th>\n",
       "    </tr>\n",
       "  </thead>\n",
       "  <tbody>\n",
       "    <tr>\n",
       "      <th>1596</th>\n",
       "      <td>20200710104331</td>\n",
       "      <td>https://web.archive.org/web/</td>\n",
       "      <td>/https://www.mohfw.gov.in/</td>\n",
       "      <td>https://web.archive.org/web/20200710104331/htt...</td>\n",
       "    </tr>\n",
       "    <tr>\n",
       "      <th>1601</th>\n",
       "      <td>20200711133700</td>\n",
       "      <td>https://web.archive.org/web/</td>\n",
       "      <td>/https://www.mohfw.gov.in/</td>\n",
       "      <td>https://web.archive.org/web/20200711133700/htt...</td>\n",
       "    </tr>\n",
       "    <tr>\n",
       "      <th>1604</th>\n",
       "      <td>20200712211819</td>\n",
       "      <td>https://web.archive.org/web/</td>\n",
       "      <td>/https://www.mohfw.gov.in/</td>\n",
       "      <td>https://web.archive.org/web/20200712211819/htt...</td>\n",
       "    </tr>\n",
       "    <tr>\n",
       "      <th>1619</th>\n",
       "      <td>20200713170309</td>\n",
       "      <td>https://web.archive.org/web/</td>\n",
       "      <td>/https://www.mohfw.gov.in/</td>\n",
       "      <td>https://web.archive.org/web/20200713170309/htt...</td>\n",
       "    </tr>\n",
       "    <tr>\n",
       "      <th>1625</th>\n",
       "      <td>20200714151329</td>\n",
       "      <td>https://web.archive.org/web/</td>\n",
       "      <td>/https://www.mohfw.gov.in/</td>\n",
       "      <td>https://web.archive.org/web/20200714151329/htt...</td>\n",
       "    </tr>\n",
       "  </tbody>\n",
       "</table>\n",
       "</div>"
      ],
      "text/plain": [
       "           max_value                          url1  \\\n",
       "1596  20200710104331  https://web.archive.org/web/   \n",
       "1601  20200711133700  https://web.archive.org/web/   \n",
       "1604  20200712211819  https://web.archive.org/web/   \n",
       "1619  20200713170309  https://web.archive.org/web/   \n",
       "1625  20200714151329  https://web.archive.org/web/   \n",
       "\n",
       "                            url2  \\\n",
       "1596  /https://www.mohfw.gov.in/   \n",
       "1601  /https://www.mohfw.gov.in/   \n",
       "1604  /https://www.mohfw.gov.in/   \n",
       "1619  /https://www.mohfw.gov.in/   \n",
       "1625  /https://www.mohfw.gov.in/   \n",
       "\n",
       "                                               full_url  \n",
       "1596  https://web.archive.org/web/20200710104331/htt...  \n",
       "1601  https://web.archive.org/web/20200711133700/htt...  \n",
       "1604  https://web.archive.org/web/20200712211819/htt...  \n",
       "1619  https://web.archive.org/web/20200713170309/htt...  \n",
       "1625  https://web.archive.org/web/20200714151329/htt...  "
      ]
     },
     "execution_count": 23,
     "metadata": {},
     "output_type": "execute_result"
    }
   ],
   "source": [
    "url.tail()"
   ]
  },
  {
   "cell_type": "code",
   "execution_count": 24,
   "metadata": {},
   "outputs": [],
   "source": [
    "pd.set_option('display.max_colwidth',1000)"
   ]
  },
  {
   "cell_type": "code",
   "execution_count": 25,
   "metadata": {},
   "outputs": [],
   "source": [
    "full_url = pd.DataFrame(url.full_url)"
   ]
  },
  {
   "cell_type": "code",
   "execution_count": 26,
   "metadata": {},
   "outputs": [],
   "source": [
    "full_url.reset_index(drop=True, inplace=True)"
   ]
  },
  {
   "cell_type": "code",
   "execution_count": 27,
   "metadata": {},
   "outputs": [],
   "source": [
    "full_url.to_csv('full_url.csv', index=False, header=False)"
   ]
  }
 ],
 "metadata": {
  "kernelspec": {
   "display_name": "Python 3",
   "language": "python",
   "name": "python3"
  },
  "language_info": {
   "codemirror_mode": {
    "name": "ipython",
    "version": 3
   },
   "file_extension": ".py",
   "mimetype": "text/x-python",
   "name": "python",
   "nbconvert_exporter": "python",
   "pygments_lexer": "ipython3",
   "version": "3.7.7"
  }
 },
 "nbformat": 4,
 "nbformat_minor": 4
}
