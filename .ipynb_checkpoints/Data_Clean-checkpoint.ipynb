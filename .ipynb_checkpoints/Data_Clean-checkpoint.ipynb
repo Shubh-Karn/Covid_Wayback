{
 "cells": [
  {
   "cell_type": "code",
   "execution_count": 1,
   "metadata": {},
   "outputs": [],
   "source": [
    "from pathlib import Path\n",
    "import pandas as pd"
   ]
  },
  {
   "cell_type": "code",
   "execution_count": 2,
   "metadata": {},
   "outputs": [
    {
     "data": {
      "text/plain": [
       "[PosixPath('/home/shubh/Python/scrapy/covidIndia2/covidIndiaData/data/state_data_v2.csv')]"
      ]
     },
     "execution_count": 2,
     "metadata": {},
     "output_type": "execute_result"
    }
   ],
   "source": [
    "list(Path.iterdir(Path.cwd()/'covidIndiaData/data/'))"
   ]
  },
  {
   "cell_type": "code",
   "execution_count": 3,
   "metadata": {},
   "outputs": [],
   "source": [
    "src_file = Path.cwd()/'covidIndiaData/data/state_data_v2.csv'"
   ]
  },
  {
   "cell_type": "code",
   "execution_count": 4,
   "metadata": {},
   "outputs": [],
   "source": [
    "df = pd.read_csv(src_file)"
   ]
  },
  {
   "cell_type": "code",
   "execution_count": 5,
   "metadata": {},
   "outputs": [
    {
     "data": {
      "text/plain": [
       "date                          object\n",
       "state                         object\n",
       "active_cases                 float64\n",
       "cured_discharged_migrated     object\n",
       "deaths                        object\n",
       "total_confirmed_cases         object\n",
       "dtype: object"
      ]
     },
     "execution_count": 5,
     "metadata": {},
     "output_type": "execute_result"
    }
   ],
   "source": [
    "df. dtypes"
   ]
  },
  {
   "cell_type": "code",
   "execution_count": 6,
   "metadata": {},
   "outputs": [],
   "source": [
    "df.date = pd.to_datetime(df.date, errors='coerce')\n",
    "df.cured_discharged_migrated = pd.to_numeric(df.cured_discharged_migrated, errors='coerce')\n",
    "df.deaths = pd.to_numeric(df.deaths, errors='coerce')\n",
    "df.total_confirmed_cases = pd.to_numeric(df.total_confirmed_cases, errors='coerce')"
   ]
  },
  {
   "cell_type": "code",
   "execution_count": 7,
   "metadata": {},
   "outputs": [],
   "source": [
    "df = df.dropna()"
   ]
  },
  {
   "cell_type": "code",
   "execution_count": 8,
   "metadata": {},
   "outputs": [
    {
     "data": {
      "text/html": [
       "<div>\n",
       "<style scoped>\n",
       "    .dataframe tbody tr th:only-of-type {\n",
       "        vertical-align: middle;\n",
       "    }\n",
       "\n",
       "    .dataframe tbody tr th {\n",
       "        vertical-align: top;\n",
       "    }\n",
       "\n",
       "    .dataframe thead th {\n",
       "        text-align: right;\n",
       "    }\n",
       "</style>\n",
       "<table border=\"1\" class=\"dataframe\">\n",
       "  <thead>\n",
       "    <tr style=\"text-align: right;\">\n",
       "      <th></th>\n",
       "      <th>date</th>\n",
       "      <th>state</th>\n",
       "      <th>active_cases</th>\n",
       "      <th>cured_discharged_migrated</th>\n",
       "      <th>deaths</th>\n",
       "      <th>total_confirmed_cases</th>\n",
       "    </tr>\n",
       "  </thead>\n",
       "  <tbody>\n",
       "    <tr>\n",
       "      <th>0</th>\n",
       "      <td>2020-06-02</td>\n",
       "      <td>Andaman and Nicobar Islands</td>\n",
       "      <td>0.0</td>\n",
       "      <td>33.0</td>\n",
       "      <td>0.0</td>\n",
       "      <td>33.0</td>\n",
       "    </tr>\n",
       "    <tr>\n",
       "      <th>1</th>\n",
       "      <td>2020-06-02</td>\n",
       "      <td>Andhra Pradesh</td>\n",
       "      <td>1341.0</td>\n",
       "      <td>2378.0</td>\n",
       "      <td>64.0</td>\n",
       "      <td>3783.0</td>\n",
       "    </tr>\n",
       "    <tr>\n",
       "      <th>2</th>\n",
       "      <td>2020-06-02</td>\n",
       "      <td>Arunachal Pradesh</td>\n",
       "      <td>21.0</td>\n",
       "      <td>1.0</td>\n",
       "      <td>0.0</td>\n",
       "      <td>22.0</td>\n",
       "    </tr>\n",
       "    <tr>\n",
       "      <th>3</th>\n",
       "      <td>2020-06-02</td>\n",
       "      <td>Assam</td>\n",
       "      <td>1109.0</td>\n",
       "      <td>277.0</td>\n",
       "      <td>4.0</td>\n",
       "      <td>1390.0</td>\n",
       "    </tr>\n",
       "    <tr>\n",
       "      <th>4</th>\n",
       "      <td>2020-06-02</td>\n",
       "      <td>Bihar</td>\n",
       "      <td>2002.0</td>\n",
       "      <td>1900.0</td>\n",
       "      <td>24.0</td>\n",
       "      <td>3926.0</td>\n",
       "    </tr>\n",
       "  </tbody>\n",
       "</table>\n",
       "</div>"
      ],
      "text/plain": [
       "        date                        state  active_cases  \\\n",
       "0 2020-06-02  Andaman and Nicobar Islands           0.0   \n",
       "1 2020-06-02               Andhra Pradesh        1341.0   \n",
       "2 2020-06-02            Arunachal Pradesh          21.0   \n",
       "3 2020-06-02                        Assam        1109.0   \n",
       "4 2020-06-02                        Bihar        2002.0   \n",
       "\n",
       "   cured_discharged_migrated  deaths  total_confirmed_cases  \n",
       "0                       33.0     0.0                   33.0  \n",
       "1                     2378.0    64.0                 3783.0  \n",
       "2                        1.0     0.0                   22.0  \n",
       "3                      277.0     4.0                 1390.0  \n",
       "4                     1900.0    24.0                 3926.0  "
      ]
     },
     "execution_count": 8,
     "metadata": {},
     "output_type": "execute_result"
    }
   ],
   "source": [
    "df.head()"
   ]
  },
  {
   "cell_type": "code",
   "execution_count": 9,
   "metadata": {},
   "outputs": [
    {
     "data": {
      "text/plain": [
       "date                         datetime64[ns]\n",
       "state                                object\n",
       "active_cases                        float64\n",
       "cured_discharged_migrated           float64\n",
       "deaths                              float64\n",
       "total_confirmed_cases               float64\n",
       "dtype: object"
      ]
     },
     "execution_count": 9,
     "metadata": {},
     "output_type": "execute_result"
    }
   ],
   "source": [
    "df.dtypes"
   ]
  },
  {
   "cell_type": "code",
   "execution_count": 16,
   "metadata": {},
   "outputs": [
    {
     "data": {
      "text/html": [
       "<div>\n",
       "<style scoped>\n",
       "    .dataframe tbody tr th:only-of-type {\n",
       "        vertical-align: middle;\n",
       "    }\n",
       "\n",
       "    .dataframe tbody tr th {\n",
       "        vertical-align: top;\n",
       "    }\n",
       "\n",
       "    .dataframe thead th {\n",
       "        text-align: right;\n",
       "    }\n",
       "</style>\n",
       "<table border=\"1\" class=\"dataframe\">\n",
       "  <thead>\n",
       "    <tr style=\"text-align: right;\">\n",
       "      <th></th>\n",
       "      <th>date</th>\n",
       "      <th>state</th>\n",
       "      <th>active_cases</th>\n",
       "      <th>cured_discharged_migrated</th>\n",
       "      <th>deaths</th>\n",
       "      <th>total_confirmed_cases</th>\n",
       "    </tr>\n",
       "  </thead>\n",
       "  <tbody>\n",
       "    <tr>\n",
       "      <th>0</th>\n",
       "      <td>2020-05-30</td>\n",
       "      <td>Delhi</td>\n",
       "      <td>9142.0</td>\n",
       "      <td>7846.0</td>\n",
       "      <td>398.0</td>\n",
       "      <td>17386.0</td>\n",
       "    </tr>\n",
       "    <tr>\n",
       "      <th>1</th>\n",
       "      <td>2020-05-30</td>\n",
       "      <td>Uttar Pradesh</td>\n",
       "      <td>2842.0</td>\n",
       "      <td>4244.0</td>\n",
       "      <td>198.0</td>\n",
       "      <td>7284.0</td>\n",
       "    </tr>\n",
       "    <tr>\n",
       "      <th>2</th>\n",
       "      <td>2020-05-30</td>\n",
       "      <td>Uttarakhand</td>\n",
       "      <td>609.0</td>\n",
       "      <td>102.0</td>\n",
       "      <td>5.0</td>\n",
       "      <td>716.0</td>\n",
       "    </tr>\n",
       "    <tr>\n",
       "      <th>3</th>\n",
       "      <td>2020-05-30</td>\n",
       "      <td>Tripura</td>\n",
       "      <td>80.0</td>\n",
       "      <td>171.0</td>\n",
       "      <td>0.0</td>\n",
       "      <td>251.0</td>\n",
       "    </tr>\n",
       "    <tr>\n",
       "      <th>4</th>\n",
       "      <td>2020-05-30</td>\n",
       "      <td>Telengana</td>\n",
       "      <td>973.0</td>\n",
       "      <td>1381.0</td>\n",
       "      <td>71.0</td>\n",
       "      <td>2425.0</td>\n",
       "    </tr>\n",
       "    <tr>\n",
       "      <th>...</th>\n",
       "      <td>...</td>\n",
       "      <td>...</td>\n",
       "      <td>...</td>\n",
       "      <td>...</td>\n",
       "      <td>...</td>\n",
       "      <td>...</td>\n",
       "    </tr>\n",
       "    <tr>\n",
       "      <th>1605</th>\n",
       "      <td>2020-07-14</td>\n",
       "      <td>Nagaland</td>\n",
       "      <td>505.0</td>\n",
       "      <td>340.0</td>\n",
       "      <td>0.0</td>\n",
       "      <td>845.0</td>\n",
       "    </tr>\n",
       "    <tr>\n",
       "      <th>1606</th>\n",
       "      <td>2020-07-14</td>\n",
       "      <td>Mizoram</td>\n",
       "      <td>82.0</td>\n",
       "      <td>151.0</td>\n",
       "      <td>0.0</td>\n",
       "      <td>233.0</td>\n",
       "    </tr>\n",
       "    <tr>\n",
       "      <th>1607</th>\n",
       "      <td>2020-07-14</td>\n",
       "      <td>Meghalaya</td>\n",
       "      <td>250.0</td>\n",
       "      <td>66.0</td>\n",
       "      <td>2.0</td>\n",
       "      <td>318.0</td>\n",
       "    </tr>\n",
       "    <tr>\n",
       "      <th>1608</th>\n",
       "      <td>2020-07-14</td>\n",
       "      <td>Rajasthan</td>\n",
       "      <td>5781.0</td>\n",
       "      <td>18630.0</td>\n",
       "      <td>525.0</td>\n",
       "      <td>24936.0</td>\n",
       "    </tr>\n",
       "    <tr>\n",
       "      <th>1609</th>\n",
       "      <td>2020-07-14</td>\n",
       "      <td>Andhra Pradesh</td>\n",
       "      <td>14274.0</td>\n",
       "      <td>16464.0</td>\n",
       "      <td>365.0</td>\n",
       "      <td>31103.0</td>\n",
       "    </tr>\n",
       "  </tbody>\n",
       "</table>\n",
       "<p>1610 rows × 6 columns</p>\n",
       "</div>"
      ],
      "text/plain": [
       "           date           state  active_cases  cured_discharged_migrated  \\\n",
       "0    2020-05-30           Delhi        9142.0                     7846.0   \n",
       "1    2020-05-30   Uttar Pradesh        2842.0                     4244.0   \n",
       "2    2020-05-30     Uttarakhand         609.0                      102.0   \n",
       "3    2020-05-30         Tripura          80.0                      171.0   \n",
       "4    2020-05-30       Telengana         973.0                     1381.0   \n",
       "...         ...             ...           ...                        ...   \n",
       "1605 2020-07-14        Nagaland         505.0                      340.0   \n",
       "1606 2020-07-14         Mizoram          82.0                      151.0   \n",
       "1607 2020-07-14       Meghalaya         250.0                       66.0   \n",
       "1608 2020-07-14       Rajasthan        5781.0                    18630.0   \n",
       "1609 2020-07-14  Andhra Pradesh       14274.0                    16464.0   \n",
       "\n",
       "      deaths  total_confirmed_cases  \n",
       "0      398.0                17386.0  \n",
       "1      198.0                 7284.0  \n",
       "2        5.0                  716.0  \n",
       "3        0.0                  251.0  \n",
       "4       71.0                 2425.0  \n",
       "...      ...                    ...  \n",
       "1605     0.0                  845.0  \n",
       "1606     0.0                  233.0  \n",
       "1607     2.0                  318.0  \n",
       "1608   525.0                24936.0  \n",
       "1609   365.0                31103.0  \n",
       "\n",
       "[1610 rows x 6 columns]"
      ]
     },
     "execution_count": 16,
     "metadata": {},
     "output_type": "execute_result"
    }
   ],
   "source": [
    "df = df.drop_duplicates()"
   ]
  },
  {
   "cell_type": "code",
   "execution_count": 10,
   "metadata": {},
   "outputs": [],
   "source": [
    "df = df.sort_values(by='date')"
   ]
  },
  {
   "cell_type": "code",
   "execution_count": 11,
   "metadata": {},
   "outputs": [],
   "source": [
    "df = df.reset_index(drop=True)"
   ]
  },
  {
   "cell_type": "code",
   "execution_count": 12,
   "metadata": {},
   "outputs": [
    {
     "data": {
      "text/plain": [
       "(1610, 6)"
      ]
     },
     "execution_count": 12,
     "metadata": {},
     "output_type": "execute_result"
    }
   ],
   "source": [
    "df.shape"
   ]
  },
  {
   "cell_type": "code",
   "execution_count": 13,
   "metadata": {},
   "outputs": [
    {
     "data": {
      "text/plain": [
       "DatetimeIndex([], dtype='datetime64[ns]', freq=None)"
      ]
     },
     "execution_count": 13,
     "metadata": {},
     "output_type": "execute_result"
    }
   ],
   "source": [
    "pd.date_range(start = '2020-05-30', end = '2020-07-14' ).difference(df.date)"
   ]
  },
  {
   "cell_type": "code",
   "execution_count": 14,
   "metadata": {},
   "outputs": [],
   "source": [
    "df.to_csv('state_data_final.csv', index=False)"
   ]
  }
 ],
 "metadata": {
  "kernelspec": {
   "display_name": "Python 3",
   "language": "python",
   "name": "python3"
  },
  "language_info": {
   "codemirror_mode": {
    "name": "ipython",
    "version": 3
   },
   "file_extension": ".py",
   "mimetype": "text/x-python",
   "name": "python",
   "nbconvert_exporter": "python",
   "pygments_lexer": "ipython3",
   "version": "3.7.7"
  }
 },
 "nbformat": 4,
 "nbformat_minor": 4
}
