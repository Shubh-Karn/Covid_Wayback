{
 "cells": [
  {
   "cell_type": "code",
   "execution_count": 1,
   "metadata": {},
   "outputs": [],
   "source": [
    "from pathlib import Path\n",
    "import pandas as pd\n",
    "from datetime import datetime"
   ]
  },
  {
   "cell_type": "code",
   "execution_count": 2,
   "metadata": {},
   "outputs": [
    {
     "data": {
      "text/plain": [
       "[PosixPath('/home/shubh/Python/scrapy/covidIndia2/covidIndiaData/data/Untitled.ipynb'),\n",
       " PosixPath('/home/shubh/Python/scrapy/covidIndia2/covidIndiaData/data/.ipynb_checkpoints'),\n",
       " PosixPath('/home/shubh/Python/scrapy/covidIndia2/covidIndiaData/data/state_data_v2.csv')]"
      ]
     },
     "execution_count": 2,
     "metadata": {},
     "output_type": "execute_result"
    }
   ],
   "source": [
    "list(Path.iterdir(Path.cwd()/'covidIndiaData/data/'))"
   ]
  },
  {
   "cell_type": "code",
   "execution_count": 3,
   "metadata": {},
   "outputs": [],
   "source": [
    "src_file = Path.cwd()/'covidIndiaData/data/state_data_v2.csv'"
   ]
  },
  {
   "cell_type": "code",
   "execution_count": 4,
   "metadata": {},
   "outputs": [],
   "source": [
    "df = pd.read_csv(src_file)"
   ]
  },
  {
   "cell_type": "code",
   "execution_count": 5,
   "metadata": {},
   "outputs": [
    {
     "data": {
      "text/plain": [
       "date                         object\n",
       "state                        object\n",
       "active_cases                 object\n",
       "cured_discharged_migrated    object\n",
       "deaths                       object\n",
       "total_confirmed_cases        object\n",
       "dtype: object"
      ]
     },
     "execution_count": 5,
     "metadata": {},
     "output_type": "execute_result"
    }
   ],
   "source": [
    "df. dtypes"
   ]
  },
  {
   "cell_type": "code",
   "execution_count": 6,
   "metadata": {},
   "outputs": [],
   "source": [
    "df.date = pd.to_datetime(df.date, errors='coerce')\n",
    "df.cured_discharged_migrated = pd.to_numeric(df.cured_discharged_migrated, errors='coerce')\n",
    "df.deaths = pd.to_numeric(df.deaths, errors='coerce')\n",
    "df.total_confirmed_cases = pd.to_numeric(df.total_confirmed_cases, errors='coerce')"
   ]
  },
  {
   "cell_type": "code",
   "execution_count": 7,
   "metadata": {},
   "outputs": [],
   "source": [
    "df = df.dropna()"
   ]
  },
  {
   "cell_type": "code",
   "execution_count": 8,
   "metadata": {},
   "outputs": [],
   "source": [
    "new_types = {df.columns[2]: 'int',\n",
    "             df.columns[3]: 'int',\n",
    "             df.columns[4]: 'int',\n",
    "             df.columns[5]: 'int'}"
   ]
  },
  {
   "cell_type": "code",
   "execution_count": 9,
   "metadata": {},
   "outputs": [],
   "source": [
    "df = df.astype(new_types)"
   ]
  },
  {
   "cell_type": "code",
   "execution_count": 10,
   "metadata": {},
   "outputs": [
    {
     "data": {
      "text/plain": [
       "date                         datetime64[ns]\n",
       "state                                object\n",
       "active_cases                          int64\n",
       "cured_discharged_migrated             int64\n",
       "deaths                                int64\n",
       "total_confirmed_cases                 int64\n",
       "dtype: object"
      ]
     },
     "execution_count": 10,
     "metadata": {},
     "output_type": "execute_result"
    }
   ],
   "source": [
    "df.dtypes"
   ]
  },
  {
   "cell_type": "code",
   "execution_count": 11,
   "metadata": {},
   "outputs": [],
   "source": [
    "df = df.drop_duplicates()"
   ]
  },
  {
   "cell_type": "code",
   "execution_count": 12,
   "metadata": {},
   "outputs": [],
   "source": [
    "df = df.sort_values(by='date')"
   ]
  },
  {
   "cell_type": "code",
   "execution_count": 13,
   "metadata": {},
   "outputs": [],
   "source": [
    "df = df.reset_index(drop=True)"
   ]
  },
  {
   "cell_type": "code",
   "execution_count": 14,
   "metadata": {},
   "outputs": [
    {
     "data": {
      "text/plain": [
       "(1995, 6)"
      ]
     },
     "execution_count": 14,
     "metadata": {},
     "output_type": "execute_result"
    }
   ],
   "source": [
    "df.shape"
   ]
  },
  {
   "cell_type": "code",
   "execution_count": 15,
   "metadata": {},
   "outputs": [
    {
     "data": {
      "text/html": [
       "<div>\n",
       "<style scoped>\n",
       "    .dataframe tbody tr th:only-of-type {\n",
       "        vertical-align: middle;\n",
       "    }\n",
       "\n",
       "    .dataframe tbody tr th {\n",
       "        vertical-align: top;\n",
       "    }\n",
       "\n",
       "    .dataframe thead th {\n",
       "        text-align: right;\n",
       "    }\n",
       "</style>\n",
       "<table border=\"1\" class=\"dataframe\">\n",
       "  <thead>\n",
       "    <tr style=\"text-align: right;\">\n",
       "      <th></th>\n",
       "      <th>date</th>\n",
       "      <th>state</th>\n",
       "      <th>active_cases</th>\n",
       "      <th>cured_discharged_migrated</th>\n",
       "      <th>deaths</th>\n",
       "      <th>total_confirmed_cases</th>\n",
       "    </tr>\n",
       "  </thead>\n",
       "  <tbody>\n",
       "    <tr>\n",
       "      <th>1990</th>\n",
       "      <td>2020-07-26</td>\n",
       "      <td>Jharkhand</td>\n",
       "      <td>4329</td>\n",
       "      <td>3425</td>\n",
       "      <td>82</td>\n",
       "      <td>7836</td>\n",
       "    </tr>\n",
       "    <tr>\n",
       "      <th>1991</th>\n",
       "      <td>2020-07-26</td>\n",
       "      <td>Karnataka</td>\n",
       "      <td>55396</td>\n",
       "      <td>33750</td>\n",
       "      <td>1796</td>\n",
       "      <td>90942</td>\n",
       "    </tr>\n",
       "    <tr>\n",
       "      <th>1992</th>\n",
       "      <td>2020-07-26</td>\n",
       "      <td>Kerala</td>\n",
       "      <td>9428</td>\n",
       "      <td>8611</td>\n",
       "      <td>59</td>\n",
       "      <td>18098</td>\n",
       "    </tr>\n",
       "    <tr>\n",
       "      <th>1993</th>\n",
       "      <td>2020-07-26</td>\n",
       "      <td>Andhra Pradesh</td>\n",
       "      <td>44431</td>\n",
       "      <td>43255</td>\n",
       "      <td>985</td>\n",
       "      <td>88671</td>\n",
       "    </tr>\n",
       "    <tr>\n",
       "      <th>1994</th>\n",
       "      <td>2020-07-26</td>\n",
       "      <td>Ladakh</td>\n",
       "      <td>216</td>\n",
       "      <td>1057</td>\n",
       "      <td>3</td>\n",
       "      <td>1276</td>\n",
       "    </tr>\n",
       "  </tbody>\n",
       "</table>\n",
       "</div>"
      ],
      "text/plain": [
       "           date           state  active_cases  cured_discharged_migrated  \\\n",
       "1990 2020-07-26       Jharkhand          4329                       3425   \n",
       "1991 2020-07-26       Karnataka         55396                      33750   \n",
       "1992 2020-07-26          Kerala          9428                       8611   \n",
       "1993 2020-07-26  Andhra Pradesh         44431                      43255   \n",
       "1994 2020-07-26          Ladakh           216                       1057   \n",
       "\n",
       "      deaths  total_confirmed_cases  \n",
       "1990      82                   7836  \n",
       "1991    1796                  90942  \n",
       "1992      59                  18098  \n",
       "1993     985                  88671  \n",
       "1994       3                   1276  "
      ]
     },
     "execution_count": 15,
     "metadata": {},
     "output_type": "execute_result"
    }
   ],
   "source": [
    "df.tail()"
   ]
  },
  {
   "cell_type": "code",
   "execution_count": 16,
   "metadata": {},
   "outputs": [],
   "source": [
    "max_date = datetime.now().strftime('%Y-%m-%d')"
   ]
  },
  {
   "cell_type": "code",
   "execution_count": 17,
   "metadata": {},
   "outputs": [
    {
     "data": {
      "text/plain": [
       "DatetimeIndex(['2020-07-25', '2020-07-27'], dtype='datetime64[ns]', freq=None)"
      ]
     },
     "execution_count": 17,
     "metadata": {},
     "output_type": "execute_result"
    }
   ],
   "source": [
    "pd.date_range(start = '2020-05-30', end = max_date ).difference(df.date)"
   ]
  },
  {
   "cell_type": "code",
   "execution_count": 18,
   "metadata": {},
   "outputs": [],
   "source": [
    "df.to_csv('state_data_final.csv', index=False)"
   ]
  }
 ],
 "metadata": {
  "kernelspec": {
   "display_name": "Python 3",
   "language": "python",
   "name": "python3"
  },
  "language_info": {
   "codemirror_mode": {
    "name": "ipython",
    "version": 3
   },
   "file_extension": ".py",
   "mimetype": "text/x-python",
   "name": "python",
   "nbconvert_exporter": "python",
   "pygments_lexer": "ipython3",
   "version": "3.7.7"
  }
 },
 "nbformat": 4,
 "nbformat_minor": 4
}
